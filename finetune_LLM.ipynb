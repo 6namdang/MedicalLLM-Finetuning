{
  "nbformat": 4,
  "nbformat_minor": 0,
  "metadata": {
    "colab": {
      "provenance": [],
      "gpuType": "T4",
      "authorship_tag": "ABX9TyNU9qdaWBQ+BuAAhk5AZr/U",
      "include_colab_link": true
    },
    "kernelspec": {
      "name": "python3",
      "display_name": "Python 3"
    },
    "language_info": {
      "name": "python"
    },
    "accelerator": "GPU"
  },
  "cells": [
    {
      "cell_type": "markdown",
      "metadata": {
        "id": "view-in-github",
        "colab_type": "text"
      },
      "source": [
        "<a href=\"https://colab.research.google.com/github/6namdang/MedicalLLM-Finetuning/blob/main/finetune_LLM.ipynb\" target=\"_parent\"><img src=\"https://colab.research.google.com/assets/colab-badge.svg\" alt=\"Open In Colab\"/></a>"
      ]
    },
    {
      "cell_type": "code",
      "execution_count": 1,
      "metadata": {
        "id": "Ek09kZnvKk9j"
      },
      "outputs": [],
      "source": [
        "import numpy as np\n",
        "import pandas as pd\n",
        "import matplotlib.pyplot as plt"
      ]
    },
    {
      "cell_type": "code",
      "source": [
        "!pip install tiktoken\n",
        "import tiktoken"
      ],
      "metadata": {
        "colab": {
          "base_uri": "https://localhost:8080/"
        },
        "id": "GIR21sjSKqU0",
        "outputId": "426b6b1a-7919-4e70-d0c3-fb3320ef17eb"
      },
      "execution_count": 2,
      "outputs": [
        {
          "output_type": "stream",
          "name": "stdout",
          "text": [
            "Collecting tiktoken\n",
            "  Downloading tiktoken-0.8.0-cp310-cp310-manylinux_2_17_x86_64.manylinux2014_x86_64.whl.metadata (6.6 kB)\n",
            "Requirement already satisfied: regex>=2022.1.18 in /usr/local/lib/python3.10/dist-packages (from tiktoken) (2024.9.11)\n",
            "Requirement already satisfied: requests>=2.26.0 in /usr/local/lib/python3.10/dist-packages (from tiktoken) (2.32.3)\n",
            "Requirement already satisfied: charset-normalizer<4,>=2 in /usr/local/lib/python3.10/dist-packages (from requests>=2.26.0->tiktoken) (3.4.0)\n",
            "Requirement already satisfied: idna<4,>=2.5 in /usr/local/lib/python3.10/dist-packages (from requests>=2.26.0->tiktoken) (3.10)\n",
            "Requirement already satisfied: urllib3<3,>=1.21.1 in /usr/local/lib/python3.10/dist-packages (from requests>=2.26.0->tiktoken) (2.2.3)\n",
            "Requirement already satisfied: certifi>=2017.4.17 in /usr/local/lib/python3.10/dist-packages (from requests>=2.26.0->tiktoken) (2024.8.30)\n",
            "Downloading tiktoken-0.8.0-cp310-cp310-manylinux_2_17_x86_64.manylinux2014_x86_64.whl (1.2 MB)\n",
            "\u001b[?25l   \u001b[90m━━━━━━━━━━━━━━━━━━━━━━━━━━━━━━━━━━━━━━━━\u001b[0m \u001b[32m0.0/1.2 MB\u001b[0m \u001b[31m?\u001b[0m eta \u001b[36m-:--:--\u001b[0m\r\u001b[2K   \u001b[91m━━━━━━━━━━━━━\u001b[0m\u001b[91m╸\u001b[0m\u001b[90m━━━━━━━━━━━━━━━━━━━━━━━━━━\u001b[0m \u001b[32m0.4/1.2 MB\u001b[0m \u001b[31m13.0 MB/s\u001b[0m eta \u001b[36m0:00:01\u001b[0m\r\u001b[2K   \u001b[90m━━━━━━━━━━━━━━━━━━━━━━━━━━━━━━━━━━━━━━━━\u001b[0m \u001b[32m1.2/1.2 MB\u001b[0m \u001b[31m18.8 MB/s\u001b[0m eta \u001b[36m0:00:00\u001b[0m\n",
            "\u001b[?25hInstalling collected packages: tiktoken\n",
            "Successfully installed tiktoken-0.8.0\n"
          ]
        }
      ]
    },
    {
      "cell_type": "code",
      "source": [
        "from google.colab import files\n",
        "uploaded = files.upload()"
      ],
      "metadata": {
        "colab": {
          "base_uri": "https://localhost:8080/",
          "height": 73
        },
        "id": "aj3eLGq6LcaL",
        "outputId": "d9b4af3a-af93-4ded-c898-69bf070b0fcc"
      },
      "execution_count": 140,
      "outputs": [
        {
          "output_type": "display_data",
          "data": {
            "text/plain": [
              "<IPython.core.display.HTML object>"
            ],
            "text/html": [
              "\n",
              "     <input type=\"file\" id=\"files-9ef1d439-986e-4c0e-87c1-227349db7a9e\" name=\"files[]\" multiple disabled\n",
              "        style=\"border:none\" />\n",
              "     <output id=\"result-9ef1d439-986e-4c0e-87c1-227349db7a9e\">\n",
              "      Upload widget is only available when the cell has been executed in the\n",
              "      current browser session. Please rerun this cell to enable.\n",
              "      </output>\n",
              "      <script>// Copyright 2017 Google LLC\n",
              "//\n",
              "// Licensed under the Apache License, Version 2.0 (the \"License\");\n",
              "// you may not use this file except in compliance with the License.\n",
              "// You may obtain a copy of the License at\n",
              "//\n",
              "//      http://www.apache.org/licenses/LICENSE-2.0\n",
              "//\n",
              "// Unless required by applicable law or agreed to in writing, software\n",
              "// distributed under the License is distributed on an \"AS IS\" BASIS,\n",
              "// WITHOUT WARRANTIES OR CONDITIONS OF ANY KIND, either express or implied.\n",
              "// See the License for the specific language governing permissions and\n",
              "// limitations under the License.\n",
              "\n",
              "/**\n",
              " * @fileoverview Helpers for google.colab Python module.\n",
              " */\n",
              "(function(scope) {\n",
              "function span(text, styleAttributes = {}) {\n",
              "  const element = document.createElement('span');\n",
              "  element.textContent = text;\n",
              "  for (const key of Object.keys(styleAttributes)) {\n",
              "    element.style[key] = styleAttributes[key];\n",
              "  }\n",
              "  return element;\n",
              "}\n",
              "\n",
              "// Max number of bytes which will be uploaded at a time.\n",
              "const MAX_PAYLOAD_SIZE = 100 * 1024;\n",
              "\n",
              "function _uploadFiles(inputId, outputId) {\n",
              "  const steps = uploadFilesStep(inputId, outputId);\n",
              "  const outputElement = document.getElementById(outputId);\n",
              "  // Cache steps on the outputElement to make it available for the next call\n",
              "  // to uploadFilesContinue from Python.\n",
              "  outputElement.steps = steps;\n",
              "\n",
              "  return _uploadFilesContinue(outputId);\n",
              "}\n",
              "\n",
              "// This is roughly an async generator (not supported in the browser yet),\n",
              "// where there are multiple asynchronous steps and the Python side is going\n",
              "// to poll for completion of each step.\n",
              "// This uses a Promise to block the python side on completion of each step,\n",
              "// then passes the result of the previous step as the input to the next step.\n",
              "function _uploadFilesContinue(outputId) {\n",
              "  const outputElement = document.getElementById(outputId);\n",
              "  const steps = outputElement.steps;\n",
              "\n",
              "  const next = steps.next(outputElement.lastPromiseValue);\n",
              "  return Promise.resolve(next.value.promise).then((value) => {\n",
              "    // Cache the last promise value to make it available to the next\n",
              "    // step of the generator.\n",
              "    outputElement.lastPromiseValue = value;\n",
              "    return next.value.response;\n",
              "  });\n",
              "}\n",
              "\n",
              "/**\n",
              " * Generator function which is called between each async step of the upload\n",
              " * process.\n",
              " * @param {string} inputId Element ID of the input file picker element.\n",
              " * @param {string} outputId Element ID of the output display.\n",
              " * @return {!Iterable<!Object>} Iterable of next steps.\n",
              " */\n",
              "function* uploadFilesStep(inputId, outputId) {\n",
              "  const inputElement = document.getElementById(inputId);\n",
              "  inputElement.disabled = false;\n",
              "\n",
              "  const outputElement = document.getElementById(outputId);\n",
              "  outputElement.innerHTML = '';\n",
              "\n",
              "  const pickedPromise = new Promise((resolve) => {\n",
              "    inputElement.addEventListener('change', (e) => {\n",
              "      resolve(e.target.files);\n",
              "    });\n",
              "  });\n",
              "\n",
              "  const cancel = document.createElement('button');\n",
              "  inputElement.parentElement.appendChild(cancel);\n",
              "  cancel.textContent = 'Cancel upload';\n",
              "  const cancelPromise = new Promise((resolve) => {\n",
              "    cancel.onclick = () => {\n",
              "      resolve(null);\n",
              "    };\n",
              "  });\n",
              "\n",
              "  // Wait for the user to pick the files.\n",
              "  const files = yield {\n",
              "    promise: Promise.race([pickedPromise, cancelPromise]),\n",
              "    response: {\n",
              "      action: 'starting',\n",
              "    }\n",
              "  };\n",
              "\n",
              "  cancel.remove();\n",
              "\n",
              "  // Disable the input element since further picks are not allowed.\n",
              "  inputElement.disabled = true;\n",
              "\n",
              "  if (!files) {\n",
              "    return {\n",
              "      response: {\n",
              "        action: 'complete',\n",
              "      }\n",
              "    };\n",
              "  }\n",
              "\n",
              "  for (const file of files) {\n",
              "    const li = document.createElement('li');\n",
              "    li.append(span(file.name, {fontWeight: 'bold'}));\n",
              "    li.append(span(\n",
              "        `(${file.type || 'n/a'}) - ${file.size} bytes, ` +\n",
              "        `last modified: ${\n",
              "            file.lastModifiedDate ? file.lastModifiedDate.toLocaleDateString() :\n",
              "                                    'n/a'} - `));\n",
              "    const percent = span('0% done');\n",
              "    li.appendChild(percent);\n",
              "\n",
              "    outputElement.appendChild(li);\n",
              "\n",
              "    const fileDataPromise = new Promise((resolve) => {\n",
              "      const reader = new FileReader();\n",
              "      reader.onload = (e) => {\n",
              "        resolve(e.target.result);\n",
              "      };\n",
              "      reader.readAsArrayBuffer(file);\n",
              "    });\n",
              "    // Wait for the data to be ready.\n",
              "    let fileData = yield {\n",
              "      promise: fileDataPromise,\n",
              "      response: {\n",
              "        action: 'continue',\n",
              "      }\n",
              "    };\n",
              "\n",
              "    // Use a chunked sending to avoid message size limits. See b/62115660.\n",
              "    let position = 0;\n",
              "    do {\n",
              "      const length = Math.min(fileData.byteLength - position, MAX_PAYLOAD_SIZE);\n",
              "      const chunk = new Uint8Array(fileData, position, length);\n",
              "      position += length;\n",
              "\n",
              "      const base64 = btoa(String.fromCharCode.apply(null, chunk));\n",
              "      yield {\n",
              "        response: {\n",
              "          action: 'append',\n",
              "          file: file.name,\n",
              "          data: base64,\n",
              "        },\n",
              "      };\n",
              "\n",
              "      let percentDone = fileData.byteLength === 0 ?\n",
              "          100 :\n",
              "          Math.round((position / fileData.byteLength) * 100);\n",
              "      percent.textContent = `${percentDone}% done`;\n",
              "\n",
              "    } while (position < fileData.byteLength);\n",
              "  }\n",
              "\n",
              "  // All done.\n",
              "  yield {\n",
              "    response: {\n",
              "      action: 'complete',\n",
              "    }\n",
              "  };\n",
              "}\n",
              "\n",
              "scope.google = scope.google || {};\n",
              "scope.google.colab = scope.google.colab || {};\n",
              "scope.google.colab._files = {\n",
              "  _uploadFiles,\n",
              "  _uploadFilesContinue,\n",
              "};\n",
              "})(self);\n",
              "</script> "
            ]
          },
          "metadata": {}
        },
        {
          "output_type": "stream",
          "name": "stdout",
          "text": [
            "Saving medical_reports.csv to medical_reports.csv\n"
          ]
        }
      ]
    },
    {
      "cell_type": "code",
      "source": [
        "df = pd.read_csv(\"reports.csv\")"
      ],
      "metadata": {
        "id": "XlThhAZaLpm4"
      },
      "execution_count": 173,
      "outputs": []
    },
    {
      "cell_type": "code",
      "source": [
        "df.info() #i want to see if the counts are missing or not"
      ],
      "metadata": {
        "colab": {
          "base_uri": "https://localhost:8080/"
        },
        "id": "gAW8Xd-BL5Hf",
        "outputId": "7fdf15ba-c790-442c-a36b-52d55d6776c3"
      },
      "execution_count": 142,
      "outputs": [
        {
          "output_type": "stream",
          "name": "stdout",
          "text": [
            "<class 'pandas.core.frame.DataFrame'>\n",
            "RangeIndex: 4999 entries, 0 to 4998\n",
            "Data columns (total 2 columns):\n",
            " #   Column             Non-Null Count  Dtype \n",
            "---  ------             --------------  ----- \n",
            " 0   medical_specialty  4999 non-null   object\n",
            " 1   report             4966 non-null   object\n",
            "dtypes: object(2)\n",
            "memory usage: 78.2+ KB\n"
          ]
        }
      ]
    },
    {
      "cell_type": "code",
      "source": [
        "df = df.dropna(subset=['report'])"
      ],
      "metadata": {
        "id": "aYMHiKTfL6Ne"
      },
      "execution_count": 174,
      "outputs": []
    },
    {
      "cell_type": "code",
      "source": [
        "df.info()"
      ],
      "metadata": {
        "colab": {
          "base_uri": "https://localhost:8080/"
        },
        "id": "nHZ3C-wuMOkD",
        "outputId": "c1949d49-cf2a-4ad2-9129-67434dc9c1d4"
      },
      "execution_count": 175,
      "outputs": [
        {
          "output_type": "stream",
          "name": "stdout",
          "text": [
            "<class 'pandas.core.frame.DataFrame'>\n",
            "RangeIndex: 2179 entries, 0 to 2178\n",
            "Data columns (total 2 columns):\n",
            " #   Column             Non-Null Count  Dtype \n",
            "---  ------             --------------  ----- \n",
            " 0   medical_specialty  2179 non-null   object\n",
            " 1   report             2179 non-null   object\n",
            "dtypes: object(2)\n",
            "memory usage: 34.2+ KB\n"
          ]
        }
      ]
    },
    {
      "cell_type": "code",
      "source": [
        "df.groupby(['medical_specialty']).count()"
      ],
      "metadata": {
        "colab": {
          "base_uri": "https://localhost:8080/",
          "height": 237
        },
        "id": "5z3dvAffMXO7",
        "outputId": "417882f7-b779-4af5-f6a2-beac075bb843"
      },
      "execution_count": 176,
      "outputs": [
        {
          "output_type": "execute_result",
          "data": {
            "text/plain": [
              "                            report\n",
              "medical_specialty                 \n",
              "Cardiovascular / Pulmonary     371\n",
              "Gastroenterology               224\n",
              "Neurology                      223\n",
              "Radiology                      273\n",
              "Surgery                       1088"
            ],
            "text/html": [
              "\n",
              "  <div id=\"df-f3e4a05e-4e78-4eb9-ad4c-6d2d9874829d\" class=\"colab-df-container\">\n",
              "    <div>\n",
              "<style scoped>\n",
              "    .dataframe tbody tr th:only-of-type {\n",
              "        vertical-align: middle;\n",
              "    }\n",
              "\n",
              "    .dataframe tbody tr th {\n",
              "        vertical-align: top;\n",
              "    }\n",
              "\n",
              "    .dataframe thead th {\n",
              "        text-align: right;\n",
              "    }\n",
              "</style>\n",
              "<table border=\"1\" class=\"dataframe\">\n",
              "  <thead>\n",
              "    <tr style=\"text-align: right;\">\n",
              "      <th></th>\n",
              "      <th>report</th>\n",
              "    </tr>\n",
              "    <tr>\n",
              "      <th>medical_specialty</th>\n",
              "      <th></th>\n",
              "    </tr>\n",
              "  </thead>\n",
              "  <tbody>\n",
              "    <tr>\n",
              "      <th>Cardiovascular / Pulmonary</th>\n",
              "      <td>371</td>\n",
              "    </tr>\n",
              "    <tr>\n",
              "      <th>Gastroenterology</th>\n",
              "      <td>224</td>\n",
              "    </tr>\n",
              "    <tr>\n",
              "      <th>Neurology</th>\n",
              "      <td>223</td>\n",
              "    </tr>\n",
              "    <tr>\n",
              "      <th>Radiology</th>\n",
              "      <td>273</td>\n",
              "    </tr>\n",
              "    <tr>\n",
              "      <th>Surgery</th>\n",
              "      <td>1088</td>\n",
              "    </tr>\n",
              "  </tbody>\n",
              "</table>\n",
              "</div>\n",
              "    <div class=\"colab-df-buttons\">\n",
              "\n",
              "  <div class=\"colab-df-container\">\n",
              "    <button class=\"colab-df-convert\" onclick=\"convertToInteractive('df-f3e4a05e-4e78-4eb9-ad4c-6d2d9874829d')\"\n",
              "            title=\"Convert this dataframe to an interactive table.\"\n",
              "            style=\"display:none;\">\n",
              "\n",
              "  <svg xmlns=\"http://www.w3.org/2000/svg\" height=\"24px\" viewBox=\"0 -960 960 960\">\n",
              "    <path d=\"M120-120v-720h720v720H120Zm60-500h600v-160H180v160Zm220 220h160v-160H400v160Zm0 220h160v-160H400v160ZM180-400h160v-160H180v160Zm440 0h160v-160H620v160ZM180-180h160v-160H180v160Zm440 0h160v-160H620v160Z\"/>\n",
              "  </svg>\n",
              "    </button>\n",
              "\n",
              "  <style>\n",
              "    .colab-df-container {\n",
              "      display:flex;\n",
              "      gap: 12px;\n",
              "    }\n",
              "\n",
              "    .colab-df-convert {\n",
              "      background-color: #E8F0FE;\n",
              "      border: none;\n",
              "      border-radius: 50%;\n",
              "      cursor: pointer;\n",
              "      display: none;\n",
              "      fill: #1967D2;\n",
              "      height: 32px;\n",
              "      padding: 0 0 0 0;\n",
              "      width: 32px;\n",
              "    }\n",
              "\n",
              "    .colab-df-convert:hover {\n",
              "      background-color: #E2EBFA;\n",
              "      box-shadow: 0px 1px 2px rgba(60, 64, 67, 0.3), 0px 1px 3px 1px rgba(60, 64, 67, 0.15);\n",
              "      fill: #174EA6;\n",
              "    }\n",
              "\n",
              "    .colab-df-buttons div {\n",
              "      margin-bottom: 4px;\n",
              "    }\n",
              "\n",
              "    [theme=dark] .colab-df-convert {\n",
              "      background-color: #3B4455;\n",
              "      fill: #D2E3FC;\n",
              "    }\n",
              "\n",
              "    [theme=dark] .colab-df-convert:hover {\n",
              "      background-color: #434B5C;\n",
              "      box-shadow: 0px 1px 3px 1px rgba(0, 0, 0, 0.15);\n",
              "      filter: drop-shadow(0px 1px 2px rgba(0, 0, 0, 0.3));\n",
              "      fill: #FFFFFF;\n",
              "    }\n",
              "  </style>\n",
              "\n",
              "    <script>\n",
              "      const buttonEl =\n",
              "        document.querySelector('#df-f3e4a05e-4e78-4eb9-ad4c-6d2d9874829d button.colab-df-convert');\n",
              "      buttonEl.style.display =\n",
              "        google.colab.kernel.accessAllowed ? 'block' : 'none';\n",
              "\n",
              "      async function convertToInteractive(key) {\n",
              "        const element = document.querySelector('#df-f3e4a05e-4e78-4eb9-ad4c-6d2d9874829d');\n",
              "        const dataTable =\n",
              "          await google.colab.kernel.invokeFunction('convertToInteractive',\n",
              "                                                    [key], {});\n",
              "        if (!dataTable) return;\n",
              "\n",
              "        const docLinkHtml = 'Like what you see? Visit the ' +\n",
              "          '<a target=\"_blank\" href=https://colab.research.google.com/notebooks/data_table.ipynb>data table notebook</a>'\n",
              "          + ' to learn more about interactive tables.';\n",
              "        element.innerHTML = '';\n",
              "        dataTable['output_type'] = 'display_data';\n",
              "        await google.colab.output.renderOutput(dataTable, element);\n",
              "        const docLink = document.createElement('div');\n",
              "        docLink.innerHTML = docLinkHtml;\n",
              "        element.appendChild(docLink);\n",
              "      }\n",
              "    </script>\n",
              "  </div>\n",
              "\n",
              "\n",
              "<div id=\"df-cc91d142-3d8f-492b-b3f2-674c59e36abc\">\n",
              "  <button class=\"colab-df-quickchart\" onclick=\"quickchart('df-cc91d142-3d8f-492b-b3f2-674c59e36abc')\"\n",
              "            title=\"Suggest charts\"\n",
              "            style=\"display:none;\">\n",
              "\n",
              "<svg xmlns=\"http://www.w3.org/2000/svg\" height=\"24px\"viewBox=\"0 0 24 24\"\n",
              "     width=\"24px\">\n",
              "    <g>\n",
              "        <path d=\"M19 3H5c-1.1 0-2 .9-2 2v14c0 1.1.9 2 2 2h14c1.1 0 2-.9 2-2V5c0-1.1-.9-2-2-2zM9 17H7v-7h2v7zm4 0h-2V7h2v10zm4 0h-2v-4h2v4z\"/>\n",
              "    </g>\n",
              "</svg>\n",
              "  </button>\n",
              "\n",
              "<style>\n",
              "  .colab-df-quickchart {\n",
              "      --bg-color: #E8F0FE;\n",
              "      --fill-color: #1967D2;\n",
              "      --hover-bg-color: #E2EBFA;\n",
              "      --hover-fill-color: #174EA6;\n",
              "      --disabled-fill-color: #AAA;\n",
              "      --disabled-bg-color: #DDD;\n",
              "  }\n",
              "\n",
              "  [theme=dark] .colab-df-quickchart {\n",
              "      --bg-color: #3B4455;\n",
              "      --fill-color: #D2E3FC;\n",
              "      --hover-bg-color: #434B5C;\n",
              "      --hover-fill-color: #FFFFFF;\n",
              "      --disabled-bg-color: #3B4455;\n",
              "      --disabled-fill-color: #666;\n",
              "  }\n",
              "\n",
              "  .colab-df-quickchart {\n",
              "    background-color: var(--bg-color);\n",
              "    border: none;\n",
              "    border-radius: 50%;\n",
              "    cursor: pointer;\n",
              "    display: none;\n",
              "    fill: var(--fill-color);\n",
              "    height: 32px;\n",
              "    padding: 0;\n",
              "    width: 32px;\n",
              "  }\n",
              "\n",
              "  .colab-df-quickchart:hover {\n",
              "    background-color: var(--hover-bg-color);\n",
              "    box-shadow: 0 1px 2px rgba(60, 64, 67, 0.3), 0 1px 3px 1px rgba(60, 64, 67, 0.15);\n",
              "    fill: var(--button-hover-fill-color);\n",
              "  }\n",
              "\n",
              "  .colab-df-quickchart-complete:disabled,\n",
              "  .colab-df-quickchart-complete:disabled:hover {\n",
              "    background-color: var(--disabled-bg-color);\n",
              "    fill: var(--disabled-fill-color);\n",
              "    box-shadow: none;\n",
              "  }\n",
              "\n",
              "  .colab-df-spinner {\n",
              "    border: 2px solid var(--fill-color);\n",
              "    border-color: transparent;\n",
              "    border-bottom-color: var(--fill-color);\n",
              "    animation:\n",
              "      spin 1s steps(1) infinite;\n",
              "  }\n",
              "\n",
              "  @keyframes spin {\n",
              "    0% {\n",
              "      border-color: transparent;\n",
              "      border-bottom-color: var(--fill-color);\n",
              "      border-left-color: var(--fill-color);\n",
              "    }\n",
              "    20% {\n",
              "      border-color: transparent;\n",
              "      border-left-color: var(--fill-color);\n",
              "      border-top-color: var(--fill-color);\n",
              "    }\n",
              "    30% {\n",
              "      border-color: transparent;\n",
              "      border-left-color: var(--fill-color);\n",
              "      border-top-color: var(--fill-color);\n",
              "      border-right-color: var(--fill-color);\n",
              "    }\n",
              "    40% {\n",
              "      border-color: transparent;\n",
              "      border-right-color: var(--fill-color);\n",
              "      border-top-color: var(--fill-color);\n",
              "    }\n",
              "    60% {\n",
              "      border-color: transparent;\n",
              "      border-right-color: var(--fill-color);\n",
              "    }\n",
              "    80% {\n",
              "      border-color: transparent;\n",
              "      border-right-color: var(--fill-color);\n",
              "      border-bottom-color: var(--fill-color);\n",
              "    }\n",
              "    90% {\n",
              "      border-color: transparent;\n",
              "      border-bottom-color: var(--fill-color);\n",
              "    }\n",
              "  }\n",
              "</style>\n",
              "\n",
              "  <script>\n",
              "    async function quickchart(key) {\n",
              "      const quickchartButtonEl =\n",
              "        document.querySelector('#' + key + ' button');\n",
              "      quickchartButtonEl.disabled = true;  // To prevent multiple clicks.\n",
              "      quickchartButtonEl.classList.add('colab-df-spinner');\n",
              "      try {\n",
              "        const charts = await google.colab.kernel.invokeFunction(\n",
              "            'suggestCharts', [key], {});\n",
              "      } catch (error) {\n",
              "        console.error('Error during call to suggestCharts:', error);\n",
              "      }\n",
              "      quickchartButtonEl.classList.remove('colab-df-spinner');\n",
              "      quickchartButtonEl.classList.add('colab-df-quickchart-complete');\n",
              "    }\n",
              "    (() => {\n",
              "      let quickchartButtonEl =\n",
              "        document.querySelector('#df-cc91d142-3d8f-492b-b3f2-674c59e36abc button');\n",
              "      quickchartButtonEl.style.display =\n",
              "        google.colab.kernel.accessAllowed ? 'block' : 'none';\n",
              "    })();\n",
              "  </script>\n",
              "</div>\n",
              "\n",
              "    </div>\n",
              "  </div>\n"
            ],
            "application/vnd.google.colaboratory.intrinsic+json": {
              "type": "dataframe",
              "summary": "{\n  \"name\": \"df\",\n  \"rows\": 5,\n  \"fields\": [\n    {\n      \"column\": \"medical_specialty\",\n      \"properties\": {\n        \"dtype\": \"string\",\n        \"num_unique_values\": 5,\n        \"samples\": [\n          \"Gastroenterology\",\n          \"Surgery\",\n          \"Neurology\"\n        ],\n        \"semantic_type\": \"\",\n        \"description\": \"\"\n      }\n    },\n    {\n      \"column\": \"report\",\n      \"properties\": {\n        \"dtype\": \"number\",\n        \"std\": 369,\n        \"min\": 223,\n        \"max\": 1088,\n        \"num_unique_values\": 5,\n        \"samples\": [\n          224,\n          1088,\n          223\n        ],\n        \"semantic_type\": \"\",\n        \"description\": \"\"\n      }\n    }\n  ]\n}"
            }
          },
          "metadata": {},
          "execution_count": 176
        }
      ]
    },
    {
      "cell_type": "code",
      "source": [
        "grouped_data = df.groupby(['medical_specialty']).sample(110,random_state=1234)"
      ],
      "metadata": {
        "id": "gDCt5a3hMvlT"
      },
      "execution_count": 177,
      "outputs": []
    },
    {
      "cell_type": "code",
      "source": [
        "val_datasets= grouped_data.groupby(['medical_specialty']).sample(10, random_state=1234)"
      ],
      "metadata": {
        "id": "d2gShvG8ldBj"
      },
      "execution_count": 178,
      "outputs": []
    },
    {
      "cell_type": "code",
      "source": [
        "val = val_datasets.groupby(['medical_specialty']).head(5)"
      ],
      "metadata": {
        "id": "rE9T4y54ljEo"
      },
      "execution_count": 179,
      "outputs": []
    },
    {
      "cell_type": "code",
      "source": [
        "test = val_datasets.groupby(['medical_specialty']).tail(5)"
      ],
      "metadata": {
        "id": "aqHjLAt5lpMD"
      },
      "execution_count": 180,
      "outputs": []
    },
    {
      "cell_type": "code",
      "source": [
        "train = grouped_data[~grouped_data.index.isin(val_datasets.index)]"
      ],
      "metadata": {
        "id": "sN3w7Ks8O_4Z"
      },
      "execution_count": 181,
      "outputs": []
    },
    {
      "cell_type": "code",
      "source": [
        "train.info()"
      ],
      "metadata": {
        "colab": {
          "base_uri": "https://localhost:8080/"
        },
        "id": "Xfcvw-pgPrBO",
        "outputId": "834c4787-526d-4500-d5b3-bc85f714a229"
      },
      "execution_count": 182,
      "outputs": [
        {
          "output_type": "stream",
          "name": "stdout",
          "text": [
            "<class 'pandas.core.frame.DataFrame'>\n",
            "Index: 500 entries, 2104 to 512\n",
            "Data columns (total 2 columns):\n",
            " #   Column             Non-Null Count  Dtype \n",
            "---  ------             --------------  ----- \n",
            " 0   medical_specialty  500 non-null    object\n",
            " 1   report             500 non-null    object\n",
            "dtypes: object(2)\n",
            "memory usage: 11.7+ KB\n"
          ]
        }
      ]
    },
    {
      "cell_type": "code",
      "source": [
        "def numbers_of_tokens(string):\n",
        "  encoding = tiktoken.get_encoding(\"cl100k_base\")\n",
        "  num_tokens = len(encoding.encode(string))\n",
        "  return num_tokens"
      ],
      "metadata": {
        "id": "AL4kh_-xP58l"
      },
      "execution_count": 184,
      "outputs": []
    },
    {
      "cell_type": "code",
      "source": [
        "numbers_of_tokens(\"fbewhfbwefuyweyfgeyweyuwevfitwifewytfyewbfwebfbybfywegfwe7346564735667345374657358fhwfw\")"
      ],
      "metadata": {
        "colab": {
          "base_uri": "https://localhost:8080/"
        },
        "id": "46X-hOTkRoke",
        "outputId": "bdc07cb8-4804-4562-ad84-9487789c3c7a"
      },
      "execution_count": 185,
      "outputs": [
        {
          "output_type": "execute_result",
          "data": {
            "text/plain": [
              "45"
            ]
          },
          "metadata": {},
          "execution_count": 185
        }
      ]
    },
    {
      "cell_type": "code",
      "source": [
        "train_report_token_length = train['report'].apply(numbers_of_tokens)"
      ],
      "metadata": {
        "id": "0vd-m2FfRrvM"
      },
      "execution_count": 186,
      "outputs": []
    },
    {
      "cell_type": "code",
      "source": [
        "test_report_token_length = test['report'].apply(numbers_of_tokens)"
      ],
      "metadata": {
        "id": "EIJ90OBPTmmz"
      },
      "execution_count": 187,
      "outputs": []
    },
    {
      "cell_type": "code",
      "source": [
        "val_report_token_length = val['report'].apply(numbers_of_tokens)"
      ],
      "metadata": {
        "id": "UlxugICnTtpm"
      },
      "execution_count": 127,
      "outputs": []
    },
    {
      "cell_type": "code",
      "source": [
        "#on the left is the target on the right is the features\n",
        "val_report_token_length"
      ],
      "metadata": {
        "colab": {
          "base_uri": "https://localhost:8080/",
          "height": 1000
        },
        "id": "O8t2245TTvnJ",
        "outputId": "6c475f91-2864-4e08-d707-ed0833417182"
      },
      "execution_count": 40,
      "outputs": [
        {
          "output_type": "execute_result",
          "data": {
            "text/plain": [
              "2161     486\n",
              "2159    1180\n",
              "1850     530\n",
              "2047     249\n",
              "2006     656\n",
              "1881     660\n",
              "1930    1462\n",
              "1879    1130\n",
              "1996     346\n",
              "1974     676\n",
              "1660     308\n",
              "1651     929\n",
              "1689     691\n",
              "1723     560\n",
              "1691     244\n",
              "1767     699\n",
              "1795     727\n",
              "1610     404\n",
              "1740     420\n",
              "1750     261\n",
              "1480    1819\n",
              "1450    1100\n",
              "1398     225\n",
              "1554     698\n",
              "1376     396\n",
              "1473     898\n",
              "1497    1190\n",
              "1541     623\n",
              "1534     329\n",
              "1537     148\n",
              "1343     301\n",
              "1333     448\n",
              "1294     113\n",
              "1252     663\n",
              "1150     183\n",
              "1178     896\n",
              "1176     416\n",
              "1355    1054\n",
              "1217      85\n",
              "1127      92\n",
              "708      341\n",
              "913     1196\n",
              "915     1461\n",
              "675      322\n",
              "840      672\n",
              "843      513\n",
              "603      170\n",
              "187      181\n",
              "323     1020\n",
              "121      530\n",
              "Name: report, dtype: int64"
            ],
            "text/html": [
              "<div>\n",
              "<style scoped>\n",
              "    .dataframe tbody tr th:only-of-type {\n",
              "        vertical-align: middle;\n",
              "    }\n",
              "\n",
              "    .dataframe tbody tr th {\n",
              "        vertical-align: top;\n",
              "    }\n",
              "\n",
              "    .dataframe thead th {\n",
              "        text-align: right;\n",
              "    }\n",
              "</style>\n",
              "<table border=\"1\" class=\"dataframe\">\n",
              "  <thead>\n",
              "    <tr style=\"text-align: right;\">\n",
              "      <th></th>\n",
              "      <th>report</th>\n",
              "    </tr>\n",
              "  </thead>\n",
              "  <tbody>\n",
              "    <tr>\n",
              "      <th>2161</th>\n",
              "      <td>486</td>\n",
              "    </tr>\n",
              "    <tr>\n",
              "      <th>2159</th>\n",
              "      <td>1180</td>\n",
              "    </tr>\n",
              "    <tr>\n",
              "      <th>1850</th>\n",
              "      <td>530</td>\n",
              "    </tr>\n",
              "    <tr>\n",
              "      <th>2047</th>\n",
              "      <td>249</td>\n",
              "    </tr>\n",
              "    <tr>\n",
              "      <th>2006</th>\n",
              "      <td>656</td>\n",
              "    </tr>\n",
              "    <tr>\n",
              "      <th>1881</th>\n",
              "      <td>660</td>\n",
              "    </tr>\n",
              "    <tr>\n",
              "      <th>1930</th>\n",
              "      <td>1462</td>\n",
              "    </tr>\n",
              "    <tr>\n",
              "      <th>1879</th>\n",
              "      <td>1130</td>\n",
              "    </tr>\n",
              "    <tr>\n",
              "      <th>1996</th>\n",
              "      <td>346</td>\n",
              "    </tr>\n",
              "    <tr>\n",
              "      <th>1974</th>\n",
              "      <td>676</td>\n",
              "    </tr>\n",
              "    <tr>\n",
              "      <th>1660</th>\n",
              "      <td>308</td>\n",
              "    </tr>\n",
              "    <tr>\n",
              "      <th>1651</th>\n",
              "      <td>929</td>\n",
              "    </tr>\n",
              "    <tr>\n",
              "      <th>1689</th>\n",
              "      <td>691</td>\n",
              "    </tr>\n",
              "    <tr>\n",
              "      <th>1723</th>\n",
              "      <td>560</td>\n",
              "    </tr>\n",
              "    <tr>\n",
              "      <th>1691</th>\n",
              "      <td>244</td>\n",
              "    </tr>\n",
              "    <tr>\n",
              "      <th>1767</th>\n",
              "      <td>699</td>\n",
              "    </tr>\n",
              "    <tr>\n",
              "      <th>1795</th>\n",
              "      <td>727</td>\n",
              "    </tr>\n",
              "    <tr>\n",
              "      <th>1610</th>\n",
              "      <td>404</td>\n",
              "    </tr>\n",
              "    <tr>\n",
              "      <th>1740</th>\n",
              "      <td>420</td>\n",
              "    </tr>\n",
              "    <tr>\n",
              "      <th>1750</th>\n",
              "      <td>261</td>\n",
              "    </tr>\n",
              "    <tr>\n",
              "      <th>1480</th>\n",
              "      <td>1819</td>\n",
              "    </tr>\n",
              "    <tr>\n",
              "      <th>1450</th>\n",
              "      <td>1100</td>\n",
              "    </tr>\n",
              "    <tr>\n",
              "      <th>1398</th>\n",
              "      <td>225</td>\n",
              "    </tr>\n",
              "    <tr>\n",
              "      <th>1554</th>\n",
              "      <td>698</td>\n",
              "    </tr>\n",
              "    <tr>\n",
              "      <th>1376</th>\n",
              "      <td>396</td>\n",
              "    </tr>\n",
              "    <tr>\n",
              "      <th>1473</th>\n",
              "      <td>898</td>\n",
              "    </tr>\n",
              "    <tr>\n",
              "      <th>1497</th>\n",
              "      <td>1190</td>\n",
              "    </tr>\n",
              "    <tr>\n",
              "      <th>1541</th>\n",
              "      <td>623</td>\n",
              "    </tr>\n",
              "    <tr>\n",
              "      <th>1534</th>\n",
              "      <td>329</td>\n",
              "    </tr>\n",
              "    <tr>\n",
              "      <th>1537</th>\n",
              "      <td>148</td>\n",
              "    </tr>\n",
              "    <tr>\n",
              "      <th>1343</th>\n",
              "      <td>301</td>\n",
              "    </tr>\n",
              "    <tr>\n",
              "      <th>1333</th>\n",
              "      <td>448</td>\n",
              "    </tr>\n",
              "    <tr>\n",
              "      <th>1294</th>\n",
              "      <td>113</td>\n",
              "    </tr>\n",
              "    <tr>\n",
              "      <th>1252</th>\n",
              "      <td>663</td>\n",
              "    </tr>\n",
              "    <tr>\n",
              "      <th>1150</th>\n",
              "      <td>183</td>\n",
              "    </tr>\n",
              "    <tr>\n",
              "      <th>1178</th>\n",
              "      <td>896</td>\n",
              "    </tr>\n",
              "    <tr>\n",
              "      <th>1176</th>\n",
              "      <td>416</td>\n",
              "    </tr>\n",
              "    <tr>\n",
              "      <th>1355</th>\n",
              "      <td>1054</td>\n",
              "    </tr>\n",
              "    <tr>\n",
              "      <th>1217</th>\n",
              "      <td>85</td>\n",
              "    </tr>\n",
              "    <tr>\n",
              "      <th>1127</th>\n",
              "      <td>92</td>\n",
              "    </tr>\n",
              "    <tr>\n",
              "      <th>708</th>\n",
              "      <td>341</td>\n",
              "    </tr>\n",
              "    <tr>\n",
              "      <th>913</th>\n",
              "      <td>1196</td>\n",
              "    </tr>\n",
              "    <tr>\n",
              "      <th>915</th>\n",
              "      <td>1461</td>\n",
              "    </tr>\n",
              "    <tr>\n",
              "      <th>675</th>\n",
              "      <td>322</td>\n",
              "    </tr>\n",
              "    <tr>\n",
              "      <th>840</th>\n",
              "      <td>672</td>\n",
              "    </tr>\n",
              "    <tr>\n",
              "      <th>843</th>\n",
              "      <td>513</td>\n",
              "    </tr>\n",
              "    <tr>\n",
              "      <th>603</th>\n",
              "      <td>170</td>\n",
              "    </tr>\n",
              "    <tr>\n",
              "      <th>187</th>\n",
              "      <td>181</td>\n",
              "    </tr>\n",
              "    <tr>\n",
              "      <th>323</th>\n",
              "      <td>1020</td>\n",
              "    </tr>\n",
              "    <tr>\n",
              "      <th>121</th>\n",
              "      <td>530</td>\n",
              "    </tr>\n",
              "  </tbody>\n",
              "</table>\n",
              "</div><br><label><b>dtype:</b> int64</label>"
            ]
          },
          "metadata": {},
          "execution_count": 40
        }
      ]
    },
    {
      "cell_type": "code",
      "source": [
        "system_prompt = \"Given a report description, classify medical specialty into Cardiovascular / Pulmonary, Gastroenterology, Neurology, Radiology, Surgery\""
      ],
      "metadata": {
        "id": "PcaZl3qxTy5k"
      },
      "execution_count": 188,
      "outputs": []
    },
    {
      "cell_type": "code",
      "source": [
        "print(system_prompt)"
      ],
      "metadata": {
        "colab": {
          "base_uri": "https://localhost:8080/"
        },
        "id": "Oeeg62VxXtD5",
        "outputId": "0dea102f-5c8c-474a-b2af-8a5aac1908bd"
      },
      "execution_count": 189,
      "outputs": [
        {
          "output_type": "stream",
          "name": "stdout",
          "text": [
            "Given a report description, classify medical specialty into Cardiovascular / Pulmonary, Gastroenterology, Neurology, Radiology, Surgery\n"
          ]
        }
      ]
    },
    {
      "cell_type": "code",
      "source": [
        "def df_to_format(df):\n",
        "    formatted_data = []\n",
        "    for index, row in df.iterrows():\n",
        "        entry = {\n",
        "            \"messages\": [\n",
        "                {\"role\": \"system\", \"content\": system_prompt},\n",
        "                {\"role\": \"user\", \"content\": row['report']},\n",
        "                {\"role\": \"assistant\", \"content\": row['medical_specialty']}\n",
        "            ]\n",
        "        }\n",
        "        formatted_data.append(entry)  # Ensure this is inside the loop\n",
        "    return formatted_data"
      ],
      "metadata": {
        "id": "Ub8QitYjXwUL"
      },
      "execution_count": 202,
      "outputs": []
    },
    {
      "cell_type": "code",
      "source": [
        "print(df_to_format(train))"
      ],
      "metadata": {
        "colab": {
          "base_uri": "https://localhost:8080/"
        },
        "id": "gtrw7g0xa5uo",
        "outputId": "5bd42913-1305-4564-93a8-2eb4a6b3b59d"
      },
      "execution_count": 191,
      "outputs": [
        {
          "output_type": "stream",
          "name": "stdout",
          "text": [
            "[{'messages': [{'role': 'system', 'content': 'Given a report description, classify medical specialty into Cardiovascular / Pulmonary, Gastroenterology, Neurology, Radiology, Surgery'}, {'role': 'user', 'content': \"PREOPERATIVE DIAGNOSIS:,  Right inguinal hernia.,POSTOPERATIVE DIAGNOSIS: , Right inguinal hernia.,ANESTHESIA: , General.,PROCEDURE:  ,Right inguinal hernia repair.,INDICATIONS: , The patient is a 4-year-old boy with a right inguinal bulge, which comes and goes with Valsalva standing and some increased physical activity.  He had an inguinal hernia on physical exam in the Pediatric Surgery Clinic and is here now for elective repair.  We met with his parents and explained the surgical technique, risks, and talked to them about trying to perform a diagnostic laparoscopic look at the contralateral side to rule out an occult hernia.  All their questions have been answered and they agreed with the plan.,OPERATIVE FINDINGS:  ,The patient had a well developed, but rather thin walled hernia sac on the right.  The thinness of hernia sac made it difficult to safely cannulate through the sac for the laparoscopy.  Therefore, high ligation was performed, and we aborted the plan for laparoscopic view of the left side.,DESCRIPTION OF PROCEDURE: , The patient came to operating room and had an uneventful induction of general anesthesia.  Surgical time-out was conducted while we were preparing and draping his abdomen with chlorhexidine based prep solution.  During our time-out, we reiterated the patient's name, medical record number, weight, allergies status, and planned operative procedure.  I then infiltrated 0.25% Marcaine with dilute epinephrine in the soft tissues around the inguinal crease in the right lower abdomen chosen for hernia incision.  An additional aliquot of Marcaine was injected deep to the external oblique fascia performing the ilioinguinal and iliohypogastric nerve block.  A curvilinear incision was made with a scalpel and a combination of electrocautery and some blunt dissection and scissor dissection was used to clear the tissue layers through Scarpa fascia and expose the external oblique.  After the oblique layers were opened, the cord structure were identified and elevated.  The hernia sac was carefully separated from the spermatic cord structures and control of the sac was obtained.  Dissection of the hernia sac back to the peritoneal reflection at the level of deep inguinal ring was performed.  I attempted to gently pass a 3-mm trocar through the hernia sac, but it was rather difficult and I became fearful that the sac would be torn in proximal control and mass ligation would be less effective.  I aborted the laparoscopic approach and performed a high ligation using transfixing and a simple mass ligature of 3-0 Vicryl.  The excess sac was trimmed and the spermatic cord structures were replaced.  The external oblique fascia and Scarpa layers were closed with interrupted 3-0 Vicryl and skin was closed with subcuticular 5-0 Monocryl and Steri-Strips.  The patient tolerated the operation well.  Blood loss was less than 5 mL.  The hernia sac was submitted for specimen, and he was then taken to the recovery room in good condition.\"}, {'role': 'assistant', 'content': 'Surgery'}]}]\n"
          ]
        }
      ]
    },
    {
      "cell_type": "code",
      "source": [
        "import json"
      ],
      "metadata": {
        "id": "lEfzafl5a_41"
      },
      "execution_count": 34,
      "outputs": []
    },
    {
      "cell_type": "code",
      "source": [
        "fine_tune_train= df_to_format(train)"
      ],
      "metadata": {
        "id": "mrEjydPbb64i"
      },
      "execution_count": 203,
      "outputs": []
    },
    {
      "cell_type": "code",
      "source": [
        "#create a jsonfile for entry\n",
        "with open('fine_tune_medical_dataset.json', 'w') as f:\n",
        "  for entry in fine_tune_train:\n",
        "    f.write(json.dumps(entry))\n",
        "    f.write(\"\\n\")"
      ],
      "metadata": {
        "id": "0fU57X5ibQD2"
      },
      "execution_count": 204,
      "outputs": []
    },
    {
      "cell_type": "code",
      "source": [
        "fine_tune_val= df_to_format(val)"
      ],
      "metadata": {
        "id": "D-67kGjjbxxU"
      },
      "execution_count": 205,
      "outputs": []
    },
    {
      "cell_type": "code",
      "source": [
        "with open('fine_tune_val_medical_dataset.json', 'w') as f:\n",
        "  for entry in fine_tune_val:\n",
        "    f.write(json.dumps(entry))\n",
        "    f.write(\"\\n\")"
      ],
      "metadata": {
        "id": "-nTaG2K2cOt5"
      },
      "execution_count": 206,
      "outputs": []
    },
    {
      "cell_type": "code",
      "source": [
        "import os"
      ],
      "metadata": {
        "id": "kPThHbYVcyq7"
      },
      "execution_count": 50,
      "outputs": []
    },
    {
      "cell_type": "code",
      "source": [
        "!pip install openai"
      ],
      "metadata": {
        "colab": {
          "base_uri": "https://localhost:8080/"
        },
        "id": "AVrrcpbodasN",
        "outputId": "bf50322b-9e7f-4e37-8bbf-105ed1f5b3e5"
      },
      "execution_count": 51,
      "outputs": [
        {
          "output_type": "stream",
          "name": "stdout",
          "text": [
            "Requirement already satisfied: openai in /usr/local/lib/python3.10/dist-packages (1.54.3)\n",
            "Requirement already satisfied: anyio<5,>=3.5.0 in /usr/local/lib/python3.10/dist-packages (from openai) (3.7.1)\n",
            "Requirement already satisfied: distro<2,>=1.7.0 in /usr/local/lib/python3.10/dist-packages (from openai) (1.9.0)\n",
            "Requirement already satisfied: httpx<1,>=0.23.0 in /usr/local/lib/python3.10/dist-packages (from openai) (0.27.2)\n",
            "Requirement already satisfied: jiter<1,>=0.4.0 in /usr/local/lib/python3.10/dist-packages (from openai) (0.7.0)\n",
            "Requirement already satisfied: pydantic<3,>=1.9.0 in /usr/local/lib/python3.10/dist-packages (from openai) (2.9.2)\n",
            "Requirement already satisfied: sniffio in /usr/local/lib/python3.10/dist-packages (from openai) (1.3.1)\n",
            "Requirement already satisfied: tqdm>4 in /usr/local/lib/python3.10/dist-packages (from openai) (4.66.6)\n",
            "Requirement already satisfied: typing-extensions<5,>=4.11 in /usr/local/lib/python3.10/dist-packages (from openai) (4.12.2)\n",
            "Requirement already satisfied: idna>=2.8 in /usr/local/lib/python3.10/dist-packages (from anyio<5,>=3.5.0->openai) (3.10)\n",
            "Requirement already satisfied: exceptiongroup in /usr/local/lib/python3.10/dist-packages (from anyio<5,>=3.5.0->openai) (1.2.2)\n",
            "Requirement already satisfied: certifi in /usr/local/lib/python3.10/dist-packages (from httpx<1,>=0.23.0->openai) (2024.8.30)\n",
            "Requirement already satisfied: httpcore==1.* in /usr/local/lib/python3.10/dist-packages (from httpx<1,>=0.23.0->openai) (1.0.6)\n",
            "Requirement already satisfied: h11<0.15,>=0.13 in /usr/local/lib/python3.10/dist-packages (from httpcore==1.*->httpx<1,>=0.23.0->openai) (0.14.0)\n",
            "Requirement already satisfied: annotated-types>=0.6.0 in /usr/local/lib/python3.10/dist-packages (from pydantic<3,>=1.9.0->openai) (0.7.0)\n",
            "Requirement already satisfied: pydantic-core==2.23.4 in /usr/local/lib/python3.10/dist-packages (from pydantic<3,>=1.9.0->openai) (2.23.4)\n"
          ]
        }
      ]
    },
    {
      "cell_type": "code",
      "source": [
        "import openai"
      ],
      "metadata": {
        "id": "ahvVy-nHeeT0"
      },
      "execution_count": 53,
      "outputs": []
    },
    {
      "cell_type": "code",
      "source": [
        "from openai import OpenAI"
      ],
      "metadata": {
        "id": "y8Sv0eNTeW46"
      },
      "execution_count": 197,
      "outputs": []
    },
    {
      "cell_type": "code",
      "source": [
        "file_upload_response = client.files.create(file= open('fine_tune_medical_dataset.json','rb'), purpose = 'fine-tune')"
      ],
      "metadata": {
        "id": "KtNmRVbjeqJ9"
      },
      "execution_count": 207,
      "outputs": []
    },
    {
      "cell_type": "code",
      "source": [
        "file_upload_response_val = client.files.create(file=open('fine_tune_val_medical_dataset.json','rb'), purpose='fine-tune')"
      ],
      "metadata": {
        "id": "vCJWtoqHfcG7"
      },
      "execution_count": 208,
      "outputs": []
    },
    {
      "cell_type": "code",
      "source": [
        "fine_tuning_response = client.fine_tuning.jobs.create(training_file=file_upload_response.id,\n",
        "                                                      model='gpt-3.5-turbo-0125',\n",
        "                                                      hyperparameters={'n_epochs':1},\n",
        "                                                      validation_file=file_upload_response_val.id\n",
        "                                                      )"
      ],
      "metadata": {
        "id": "Azpr5h7wfxTA"
      },
      "execution_count": 209,
      "outputs": []
    },
    {
      "cell_type": "code",
      "source": [
        "print(fine_tuning_response)"
      ],
      "metadata": {
        "colab": {
          "base_uri": "https://localhost:8080/"
        },
        "id": "_JnI6GOUhVYt",
        "outputId": "0f40609b-1529-4b32-d217-2373c0dc6c5d"
      },
      "execution_count": 72,
      "outputs": [
        {
          "output_type": "stream",
          "name": "stdout",
          "text": [
            "FineTuningJob(id='ftjob-UMQlo7YrKgPLtOPvbjZdsF6q', created_at=1731451691, error=Error(code=None, message=None, param=None), fine_tuned_model=None, finished_at=None, hyperparameters=Hyperparameters(n_epochs=1, batch_size='auto', learning_rate_multiplier='auto'), model='gpt-3.5-turbo-0125', object='fine_tuning.job', organization_id='org-UskPvm5tQBo6f1JHMgh9uziW', result_files=[], seed=1908777240, status='validating_files', trained_tokens=None, training_file='file-VvvpQMlstGuIl3cZefuV2Bld', validation_file='file-OMvpIDZMWTTb03bnoT4ejPYT', estimated_finish=None, integrations=[], user_provided_suffix=None)\n"
          ]
        }
      ]
    },
    {
      "cell_type": "code",
      "source": [
        "client.fine_tuning.jobs.list(limit=1)"
      ],
      "metadata": {
        "colab": {
          "base_uri": "https://localhost:8080/"
        },
        "id": "0md7rbRqjGIj",
        "outputId": "aa90d9c0-9ba0-41cf-c534-73b7bd815ab0"
      },
      "execution_count": 210,
      "outputs": [
        {
          "output_type": "execute_result",
          "data": {
            "text/plain": [
              "SyncCursorPage[FineTuningJob](data=[FineTuningJob(id='ftjob-Xu9HDTsALmbrjqWyGcis8mlJ', created_at=1731453978, error=Error(code=None, message=None, param=None), fine_tuned_model='ft:gpt-3.5-turbo-0125:personal::ASuoKKnx', finished_at=1731454927, hyperparameters=Hyperparameters(n_epochs=1, batch_size=1, learning_rate_multiplier=2), model='gpt-3.5-turbo-0125', object='fine_tuning.job', organization_id='org-UskPvm5tQBo6f1JHMgh9uziW', result_files=['file-duoskMLt92Amhx679aI0CiJm'], seed=2047360041, status='succeeded', trained_tokens=355635, training_file='file-CEMwoxVQKKSQ5i9K8VHKp8IT', validation_file='file-auRJU0XcUYo9lmRx7VAXhscC', estimated_finish=None, integrations=[], user_provided_suffix=None)], object='list', has_more=True)"
            ]
          },
          "metadata": {},
          "execution_count": 210
        }
      ]
    },
    {
      "cell_type": "code",
      "source": [
        "training_event = client.fine_tuning.jobs.list_events(fine_tuning_job_id=\"ftjob-Xu9HDTsALmbrjqWyGcis8mlJ\")"
      ],
      "metadata": {
        "id": "gev0atIFjbmg"
      },
      "execution_count": 213,
      "outputs": []
    },
    {
      "cell_type": "code",
      "source": [
        "training_event.data"
      ],
      "metadata": {
        "colab": {
          "base_uri": "https://localhost:8080/"
        },
        "id": "QoiddMBw0A10",
        "outputId": "b196ab0d-7cfe-4d5c-a163-ac42a11af271"
      },
      "execution_count": 214,
      "outputs": [
        {
          "output_type": "execute_result",
          "data": {
            "text/plain": [
              "[FineTuningJobEvent(id='ftevent-BIK4JYjWHD8z8g0IZtLUs7xI', created_at=1731454932, level='info', message='The job has successfully completed', object='fine_tuning.job.event', data={}, type='message'),\n",
              " FineTuningJobEvent(id='ftevent-KDnxjgQmgVBwLD6zK5hpbWY4', created_at=1731454929, level='info', message='New fine-tuned model created', object='fine_tuning.job.event', data={}, type='message'),\n",
              " FineTuningJobEvent(id='ftevent-D7beZADjn82rfHaVYKRPbZYn', created_at=1731454917, level='info', message='Step 500/500: training loss=0.00, validation loss=0.00, full validation loss=0.50', object='fine_tuning.job.event', data={'step': 500, 'train_loss': 4.76837158203125e-07, 'valid_loss': 1.9073486328125e-06, 'total_steps': 500, 'full_valid_loss': 0.5003576914469401, 'train_mean_token_accuracy': 1.0, 'valid_mean_token_accuracy': 1.0, 'full_valid_mean_token_accuracy': 0.9481481481481482}, type='metrics'),\n",
              " FineTuningJobEvent(id='ftevent-tOsrTgJjFMQ1eMTpW69XPZES', created_at=1731454915, level='info', message='Step 499/500: training loss=0.00', object='fine_tuning.job.event', data={'step': 499, 'train_loss': 7.629394644936838e-07, 'total_steps': 500, 'train_mean_token_accuracy': 1.0}, type='metrics'),\n",
              " FineTuningJobEvent(id='ftevent-wTrhOVeWuQUxjGGEbJ82MiV7', created_at=1731454913, level='info', message='Step 498/500: training loss=2.93', object='fine_tuning.job.event', data={'step': 498, 'train_loss': 2.9325149059295654, 'total_steps': 500, 'train_mean_token_accuracy': 0.800000011920929}, type='metrics'),\n",
              " FineTuningJobEvent(id='ftevent-g2G5rCJ0vjLSEFLWqqeumDIS', created_at=1731454910, level='info', message='Step 497/500: training loss=0.00', object='fine_tuning.job.event', data={'step': 497, 'train_loss': 4.76837158203125e-07, 'total_steps': 500, 'train_mean_token_accuracy': 1.0}, type='metrics'),\n",
              " FineTuningJobEvent(id='ftevent-rclhWeTSE0PbRHErTrTG2UL6', created_at=1731454910, level='info', message='Step 496/500: training loss=0.00', object='fine_tuning.job.event', data={'step': 496, 'train_loss': 9.5367431640625e-07, 'total_steps': 500, 'train_mean_token_accuracy': 1.0}, type='metrics'),\n",
              " FineTuningJobEvent(id='ftevent-ZIdlGnq5ApLc2m6Vh2Hbd8LY', created_at=1731454908, level='info', message='Step 495/500: training loss=1.65', object='fine_tuning.job.event', data={'step': 495, 'train_loss': 1.6489262580871582, 'total_steps': 500, 'train_mean_token_accuracy': 0.875}, type='metrics'),\n",
              " FineTuningJobEvent(id='ftevent-I898zZCwrqVuXKNNL9wHYPvT', created_at=1731454906, level='info', message='Step 494/500: training loss=0.00', object='fine_tuning.job.event', data={'step': 494, 'train_loss': 7.629394644936838e-07, 'total_steps': 500, 'train_mean_token_accuracy': 1.0}, type='metrics'),\n",
              " FineTuningJobEvent(id='ftevent-F2mWTNDeoPJDXsWhv6xt1vcZ', created_at=1731454906, level='info', message='Step 493/500: training loss=0.00', object='fine_tuning.job.event', data={'step': 493, 'train_loss': 4.76837158203125e-07, 'total_steps': 500, 'train_mean_token_accuracy': 1.0}, type='metrics'),\n",
              " FineTuningJobEvent(id='ftevent-4rtj5HQ1mVEuP6mfQW98nRGz', created_at=1731454904, level='info', message='Step 492/500: training loss=4.67', object='fine_tuning.job.event', data={'step': 492, 'train_loss': 4.671092987060547, 'total_steps': 500, 'train_mean_token_accuracy': 0.75}, type='metrics'),\n",
              " FineTuningJobEvent(id='ftevent-IoQBBjAAIjSVwfXymkKx36Fp', created_at=1731454904, level='info', message='Step 491/500: training loss=0.00', object='fine_tuning.job.event', data={'step': 491, 'train_loss': 9.5367431640625e-07, 'total_steps': 500, 'train_mean_token_accuracy': 1.0}, type='metrics'),\n",
              " FineTuningJobEvent(id='ftevent-YQmFCZ6h9Tr2v7XzIxvUEcFm', created_at=1731454901, level='info', message='Step 490/500: training loss=0.00, validation loss=3.73', object='fine_tuning.job.event', data={'step': 490, 'train_loss': 0.0006434122915379703, 'valid_loss': 3.727438449859619, 'total_steps': 500, 'train_mean_token_accuracy': 1.0, 'valid_mean_token_accuracy': 0.75}, type='metrics'),\n",
              " FineTuningJobEvent(id='ftevent-EwUEFNSqiRHUr2DrmItH1BzR', created_at=1731454901, level='info', message='Step 489/500: training loss=0.00', object='fine_tuning.job.event', data={'step': 489, 'train_loss': 4.76837158203125e-07, 'total_steps': 500, 'train_mean_token_accuracy': 1.0}, type='metrics'),\n",
              " FineTuningJobEvent(id='ftevent-YjyZADuoWNoZniUBh9mOGMdh', created_at=1731454898, level='info', message='Step 488/500: training loss=0.00', object='fine_tuning.job.event', data={'step': 488, 'train_loss': 9.5367431640625e-07, 'total_steps': 500, 'train_mean_token_accuracy': 1.0}, type='metrics'),\n",
              " FineTuningJobEvent(id='ftevent-6LIB9mMqtugOokyCLg6GIdub', created_at=1731454896, level='info', message='Step 487/500: training loss=0.00', object='fine_tuning.job.event', data={'step': 487, 'train_loss': 7.629394644936838e-07, 'total_steps': 500, 'train_mean_token_accuracy': 1.0}, type='metrics'),\n",
              " FineTuningJobEvent(id='ftevent-PJrSesgR0uL7RL3xKGEY1ebC', created_at=1731454896, level='info', message='Step 486/500: training loss=3.53', object='fine_tuning.job.event', data={'step': 486, 'train_loss': 3.5292696952819824, 'total_steps': 500, 'train_mean_token_accuracy': 0.75}, type='metrics'),\n",
              " FineTuningJobEvent(id='ftevent-9xwTQ72Wu8yiDMpLACzU6LTR', created_at=1731454894, level='info', message='Step 485/500: training loss=3.97', object='fine_tuning.job.event', data={'step': 485, 'train_loss': 3.9742770195007324, 'total_steps': 500, 'train_mean_token_accuracy': 0.75}, type='metrics'),\n",
              " FineTuningJobEvent(id='ftevent-WpXYB79hcCl6m2ttfVG2LuQy', created_at=1731454894, level='info', message='Step 484/500: training loss=2.57', object='fine_tuning.job.event', data={'step': 484, 'train_loss': 2.5650687217712402, 'total_steps': 500, 'train_mean_token_accuracy': 0.800000011920929}, type='metrics'),\n",
              " FineTuningJobEvent(id='ftevent-9Kr9oDlCRjlENac9ol845M4X', created_at=1731454891, level='info', message='Step 483/500: training loss=0.00', object='fine_tuning.job.event', data={'step': 483, 'train_loss': 4.76837158203125e-07, 'total_steps': 500, 'train_mean_token_accuracy': 1.0}, type='metrics')]"
            ]
          },
          "metadata": {},
          "execution_count": 214
        }
      ]
    },
    {
      "cell_type": "code",
      "source": [
        "train_loss = []\n",
        "val_loss = []"
      ],
      "metadata": {
        "id": "xY2BaT4N0Gsg"
      },
      "execution_count": 215,
      "outputs": []
    },
    {
      "cell_type": "code",
      "source": [
        "# Ensure that the lists are initialized before the loop\n",
        "train_loss = []\n",
        "val_loss = []\n",
        "\n",
        "# Loop through the event data\n",
        "for item in training_event.data:\n",
        "    train_data = item.data\n",
        "    if train_data:\n",
        "        # Add train_loss if the key exists\n",
        "        if 'train_loss' in train_data:\n",
        "            train_loss.append(train_data['train_loss'])  # Use append() instead of insert()\n",
        "\n",
        "        # Add valid_loss if the key exists\n",
        "        if 'valid_loss' in train_data:\n",
        "            val_loss.append(train_data['valid_loss'])  # Use append() instead of insert()\n"
      ],
      "metadata": {
        "id": "atKnaycB0kRc"
      },
      "execution_count": 221,
      "outputs": []
    },
    {
      "cell_type": "code",
      "source": [],
      "metadata": {
        "colab": {
          "base_uri": "https://localhost:8080/",
          "height": 52
        },
        "id": "Zpr4wCMP1VrA",
        "outputId": "9a9f6bae-55f0-4ceb-b973-5944da57ff8f"
      },
      "execution_count": 222,
      "outputs": [
        {
          "output_type": "execute_result",
          "data": {
            "text/plain": [
              "<Figure size 640x480 with 0 Axes>"
            ]
          },
          "metadata": {},
          "execution_count": 222
        },
        {
          "output_type": "display_data",
          "data": {
            "text/plain": [
              "<Figure size 640x480 with 0 Axes>"
            ]
          },
          "metadata": {}
        }
      ]
    },
    {
      "cell_type": "code",
      "source": [
        "plt.figure()\n",
        "plt.plot(train_loss)\n",
        "plt.plot(val_loss)"
      ],
      "metadata": {
        "colab": {
          "base_uri": "https://localhost:8080/",
          "height": 447
        },
        "id": "1L6DfPNe12o7",
        "outputId": "f2acfe43-42b5-4466-c942-ace915eb3d52"
      },
      "execution_count": 224,
      "outputs": [
        {
          "output_type": "execute_result",
          "data": {
            "text/plain": [
              "[<matplotlib.lines.Line2D at 0x793f55763a60>]"
            ]
          },
          "metadata": {},
          "execution_count": 224
        },
        {
          "output_type": "display_data",
          "data": {
            "text/plain": [
              "<Figure size 640x480 with 1 Axes>"
            ],
            "image/png": "[encoded data removed]"
          },
          "metadata": {}
        }
      ]
    },
    {
      "cell_type": "code",
      "source": [
        "def finetuneReport(report, model):\n",
        "    completion = client.chat.completions.create(\n",
        "        model=model,\n",
        "        messages=[\n",
        "            {\"role\": \"system\", \"content\": system_prompt},\n",
        "            {\"role\": \"user\", \"content\": report}\n",
        "        ]\n",
        "    )\n",
        "    return completion"
      ],
      "metadata": {
        "id": "MsD1CciG18I9"
      },
      "execution_count": 228,
      "outputs": []
    },
    {
      "cell_type": "code",
      "source": [
        "(np.array(predicted_class) == np.array(ground_truth_class)).mean()"
      ],
      "metadata": {
        "colab": {
          "base_uri": "https://localhost:8080/"
        },
        "id": "DEukMPha5De5",
        "outputId": "9dc85f3d-55b2-4f81-95ba-b719dfcae652"
      },
      "execution_count": 232,
      "outputs": [
        {
          "output_type": "execute_result",
          "data": {
            "text/plain": [
              "0.04"
            ]
          },
          "metadata": {},
          "execution_count": 232
        }
      ]
    },
    {
      "cell_type": "code",
      "source": [
        "predicted_class=[]\n",
        "ground_truth_class=[]\n",
        "\n",
        "for row in test.iterrows():\n",
        "  report,speciality=row[1]['report'],row[1]['medical_specialty']\n",
        "  ground_truth_class.append(speciality.strip())\n",
        "  prediction = finetuneReport(report, model='ft:gpt-3.5-turbo-0125:personal::ASuoKKnx')\n",
        "  predicted_class.append(prediction.choices[0].message.content.strip())"
      ],
      "metadata": {
        "id": "wBF6LFN85q9O"
      },
      "execution_count": 233,
      "outputs": []
    },
    {
      "cell_type": "code",
      "source": [
        "(np.array(predicted_class) == np.array(ground_truth_class)).mean()"
      ],
      "metadata": {
        "colab": {
          "base_uri": "https://localhost:8080/"
        },
        "id": "nve2Hspz5yax",
        "outputId": "4c1d43f6-c02c-4dc4-e7ea-13ce49a30d2d"
      },
      "execution_count": 234,
      "outputs": [
        {
          "output_type": "execute_result",
          "data": {
            "text/plain": [
              "0.8"
            ]
          },
          "metadata": {},
          "execution_count": 234
        }
      ]
    },
    {
      "cell_type": "code",
      "source": [
        "#20% better than gpt-3.5"
      ],
      "metadata": {
        "id": "tUTYUNVa6Buo"
      },
      "execution_count": null,
      "outputs": []
    }
  ]
}